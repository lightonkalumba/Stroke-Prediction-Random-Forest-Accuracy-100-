{
 "cells": [
  {
   "cell_type": "markdown",
   "id": "214d6756",
   "metadata": {
    "papermill": {
     "duration": 0.00794,
     "end_time": "2023-07-17T15:29:27.560801",
     "exception": false,
     "start_time": "2023-07-17T15:29:27.552861",
     "status": "completed"
    },
    "tags": []
   },
   "source": [
    "### 1. Import Libraries"
   ]
  },
  {
   "cell_type": "code",
   "execution_count": 1,
   "id": "03ea6f99",
   "metadata": {
    "execution": {
     "iopub.execute_input": "2023-07-17T15:29:27.577478Z",
     "iopub.status.busy": "2023-07-17T15:29:27.577043Z",
     "iopub.status.idle": "2023-07-17T15:29:27.588939Z",
     "shell.execute_reply": "2023-07-17T15:29:27.587763Z"
    },
    "papermill": {
     "duration": 0.023213,
     "end_time": "2023-07-17T15:29:27.591582",
     "exception": false,
     "start_time": "2023-07-17T15:29:27.568369",
     "status": "completed"
    },
    "tags": []
   },
   "outputs": [],
   "source": [
    "#Importing Basic Libraries\n",
    "import matplotlib.pyplot as plt\n",
    "import pandas as pd"
   ]
  },
  {
   "cell_type": "markdown",
   "id": "ce618139",
   "metadata": {
    "papermill": {
     "duration": 0.006892,
     "end_time": "2023-07-17T15:29:27.605895",
     "exception": false,
     "start_time": "2023-07-17T15:29:27.599003",
     "status": "completed"
    },
    "tags": []
   },
   "source": [
    "### 2. Load Data"
   ]
  },
  {
   "cell_type": "code",
   "execution_count": 2,
   "id": "0bc30746",
   "metadata": {
    "execution": {
     "iopub.execute_input": "2023-07-17T15:29:27.622924Z",
     "iopub.status.busy": "2023-07-17T15:29:27.622507Z",
     "iopub.status.idle": "2023-07-17T15:29:27.689376Z",
     "shell.execute_reply": "2023-07-17T15:29:27.688473Z"
    },
    "papermill": {
     "duration": 0.078298,
     "end_time": "2023-07-17T15:29:27.691920",
     "exception": false,
     "start_time": "2023-07-17T15:29:27.613622",
     "status": "completed"
    },
    "tags": []
   },
   "outputs": [
    {
     "data": {
      "text/html": [
       "<div>\n",
       "<style scoped>\n",
       "    .dataframe tbody tr th:only-of-type {\n",
       "        vertical-align: middle;\n",
       "    }\n",
       "\n",
       "    .dataframe tbody tr th {\n",
       "        vertical-align: top;\n",
       "    }\n",
       "\n",
       "    .dataframe thead th {\n",
       "        text-align: right;\n",
       "    }\n",
       "</style>\n",
       "<table border=\"1\" class=\"dataframe\">\n",
       "  <thead>\n",
       "    <tr style=\"text-align: right;\">\n",
       "      <th></th>\n",
       "      <th>id</th>\n",
       "      <th>gender</th>\n",
       "      <th>age</th>\n",
       "      <th>hypertension</th>\n",
       "      <th>heart_disease</th>\n",
       "      <th>ever_married</th>\n",
       "      <th>work_type</th>\n",
       "      <th>Residence_type</th>\n",
       "      <th>avg_glucose_level</th>\n",
       "      <th>bmi</th>\n",
       "      <th>smoking_status</th>\n",
       "      <th>stroke</th>\n",
       "    </tr>\n",
       "  </thead>\n",
       "  <tbody>\n",
       "    <tr>\n",
       "      <th>0</th>\n",
       "      <td>9046</td>\n",
       "      <td>Male</td>\n",
       "      <td>67.0</td>\n",
       "      <td>0</td>\n",
       "      <td>1</td>\n",
       "      <td>Yes</td>\n",
       "      <td>Private</td>\n",
       "      <td>Urban</td>\n",
       "      <td>228.69</td>\n",
       "      <td>36.6</td>\n",
       "      <td>formerly smoked</td>\n",
       "      <td>1</td>\n",
       "    </tr>\n",
       "    <tr>\n",
       "      <th>1</th>\n",
       "      <td>51676</td>\n",
       "      <td>Female</td>\n",
       "      <td>61.0</td>\n",
       "      <td>0</td>\n",
       "      <td>0</td>\n",
       "      <td>Yes</td>\n",
       "      <td>Self-employed</td>\n",
       "      <td>Rural</td>\n",
       "      <td>202.21</td>\n",
       "      <td>NaN</td>\n",
       "      <td>never smoked</td>\n",
       "      <td>1</td>\n",
       "    </tr>\n",
       "    <tr>\n",
       "      <th>2</th>\n",
       "      <td>31112</td>\n",
       "      <td>Male</td>\n",
       "      <td>80.0</td>\n",
       "      <td>0</td>\n",
       "      <td>1</td>\n",
       "      <td>Yes</td>\n",
       "      <td>Private</td>\n",
       "      <td>Rural</td>\n",
       "      <td>105.92</td>\n",
       "      <td>32.5</td>\n",
       "      <td>never smoked</td>\n",
       "      <td>1</td>\n",
       "    </tr>\n",
       "    <tr>\n",
       "      <th>3</th>\n",
       "      <td>60182</td>\n",
       "      <td>Female</td>\n",
       "      <td>49.0</td>\n",
       "      <td>0</td>\n",
       "      <td>0</td>\n",
       "      <td>Yes</td>\n",
       "      <td>Private</td>\n",
       "      <td>Urban</td>\n",
       "      <td>171.23</td>\n",
       "      <td>34.4</td>\n",
       "      <td>smokes</td>\n",
       "      <td>1</td>\n",
       "    </tr>\n",
       "    <tr>\n",
       "      <th>4</th>\n",
       "      <td>1665</td>\n",
       "      <td>Female</td>\n",
       "      <td>79.0</td>\n",
       "      <td>1</td>\n",
       "      <td>0</td>\n",
       "      <td>Yes</td>\n",
       "      <td>Self-employed</td>\n",
       "      <td>Rural</td>\n",
       "      <td>174.12</td>\n",
       "      <td>24.0</td>\n",
       "      <td>never smoked</td>\n",
       "      <td>1</td>\n",
       "    </tr>\n",
       "  </tbody>\n",
       "</table>\n",
       "</div>"
      ],
      "text/plain": [
       "      id  gender   age  hypertension  heart_disease ever_married  \\\n",
       "0   9046    Male  67.0             0              1          Yes   \n",
       "1  51676  Female  61.0             0              0          Yes   \n",
       "2  31112    Male  80.0             0              1          Yes   \n",
       "3  60182  Female  49.0             0              0          Yes   \n",
       "4   1665  Female  79.0             1              0          Yes   \n",
       "\n",
       "       work_type Residence_type  avg_glucose_level   bmi   smoking_status  \\\n",
       "0        Private          Urban             228.69  36.6  formerly smoked   \n",
       "1  Self-employed          Rural             202.21   NaN     never smoked   \n",
       "2        Private          Rural             105.92  32.5     never smoked   \n",
       "3        Private          Urban             171.23  34.4           smokes   \n",
       "4  Self-employed          Rural             174.12  24.0     never smoked   \n",
       "\n",
       "   stroke  \n",
       "0       1  \n",
       "1       1  \n",
       "2       1  \n",
       "3       1  \n",
       "4       1  "
      ]
     },
     "execution_count": 2,
     "metadata": {},
     "output_type": "execute_result"
    }
   ],
   "source": [
    "df = pd.read_csv(\"/kaggle/input/stroke-prediction-dataset/healthcare-dataset-stroke-data.csv\")\n",
    "df.head()"
   ]
  },
  {
   "cell_type": "markdown",
   "id": "db1ef54a",
   "metadata": {
    "papermill": {
     "duration": 0.007366,
     "end_time": "2023-07-17T15:29:27.706961",
     "exception": false,
     "start_time": "2023-07-17T15:29:27.699595",
     "status": "completed"
    },
    "tags": []
   },
   "source": [
    "### 3. Basic Data Exploration"
   ]
  },
  {
   "cell_type": "code",
   "execution_count": 3,
   "id": "ff8aa17b",
   "metadata": {
    "execution": {
     "iopub.execute_input": "2023-07-17T15:29:27.724250Z",
     "iopub.status.busy": "2023-07-17T15:29:27.723806Z",
     "iopub.status.idle": "2023-07-17T15:29:27.765021Z",
     "shell.execute_reply": "2023-07-17T15:29:27.763895Z"
    },
    "papermill": {
     "duration": 0.052719,
     "end_time": "2023-07-17T15:29:27.767565",
     "exception": false,
     "start_time": "2023-07-17T15:29:27.714846",
     "status": "completed"
    },
    "tags": []
   },
   "outputs": [
    {
     "data": {
      "text/html": [
       "<div>\n",
       "<style scoped>\n",
       "    .dataframe tbody tr th:only-of-type {\n",
       "        vertical-align: middle;\n",
       "    }\n",
       "\n",
       "    .dataframe tbody tr th {\n",
       "        vertical-align: top;\n",
       "    }\n",
       "\n",
       "    .dataframe thead th {\n",
       "        text-align: right;\n",
       "    }\n",
       "</style>\n",
       "<table border=\"1\" class=\"dataframe\">\n",
       "  <thead>\n",
       "    <tr style=\"text-align: right;\">\n",
       "      <th></th>\n",
       "      <th>id</th>\n",
       "      <th>age</th>\n",
       "      <th>hypertension</th>\n",
       "      <th>heart_disease</th>\n",
       "      <th>avg_glucose_level</th>\n",
       "      <th>bmi</th>\n",
       "      <th>stroke</th>\n",
       "    </tr>\n",
       "  </thead>\n",
       "  <tbody>\n",
       "    <tr>\n",
       "      <th>count</th>\n",
       "      <td>5110.000000</td>\n",
       "      <td>5110.000000</td>\n",
       "      <td>5110.000000</td>\n",
       "      <td>5110.000000</td>\n",
       "      <td>5110.000000</td>\n",
       "      <td>4909.000000</td>\n",
       "      <td>5110.000000</td>\n",
       "    </tr>\n",
       "    <tr>\n",
       "      <th>mean</th>\n",
       "      <td>36517.829354</td>\n",
       "      <td>43.226614</td>\n",
       "      <td>0.097456</td>\n",
       "      <td>0.054012</td>\n",
       "      <td>106.147677</td>\n",
       "      <td>28.893237</td>\n",
       "      <td>0.048728</td>\n",
       "    </tr>\n",
       "    <tr>\n",
       "      <th>std</th>\n",
       "      <td>21161.721625</td>\n",
       "      <td>22.612647</td>\n",
       "      <td>0.296607</td>\n",
       "      <td>0.226063</td>\n",
       "      <td>45.283560</td>\n",
       "      <td>7.854067</td>\n",
       "      <td>0.215320</td>\n",
       "    </tr>\n",
       "    <tr>\n",
       "      <th>min</th>\n",
       "      <td>67.000000</td>\n",
       "      <td>0.080000</td>\n",
       "      <td>0.000000</td>\n",
       "      <td>0.000000</td>\n",
       "      <td>55.120000</td>\n",
       "      <td>10.300000</td>\n",
       "      <td>0.000000</td>\n",
       "    </tr>\n",
       "    <tr>\n",
       "      <th>25%</th>\n",
       "      <td>17741.250000</td>\n",
       "      <td>25.000000</td>\n",
       "      <td>0.000000</td>\n",
       "      <td>0.000000</td>\n",
       "      <td>77.245000</td>\n",
       "      <td>23.500000</td>\n",
       "      <td>0.000000</td>\n",
       "    </tr>\n",
       "    <tr>\n",
       "      <th>50%</th>\n",
       "      <td>36932.000000</td>\n",
       "      <td>45.000000</td>\n",
       "      <td>0.000000</td>\n",
       "      <td>0.000000</td>\n",
       "      <td>91.885000</td>\n",
       "      <td>28.100000</td>\n",
       "      <td>0.000000</td>\n",
       "    </tr>\n",
       "    <tr>\n",
       "      <th>75%</th>\n",
       "      <td>54682.000000</td>\n",
       "      <td>61.000000</td>\n",
       "      <td>0.000000</td>\n",
       "      <td>0.000000</td>\n",
       "      <td>114.090000</td>\n",
       "      <td>33.100000</td>\n",
       "      <td>0.000000</td>\n",
       "    </tr>\n",
       "    <tr>\n",
       "      <th>max</th>\n",
       "      <td>72940.000000</td>\n",
       "      <td>82.000000</td>\n",
       "      <td>1.000000</td>\n",
       "      <td>1.000000</td>\n",
       "      <td>271.740000</td>\n",
       "      <td>97.600000</td>\n",
       "      <td>1.000000</td>\n",
       "    </tr>\n",
       "  </tbody>\n",
       "</table>\n",
       "</div>"
      ],
      "text/plain": [
       "                 id          age  hypertension  heart_disease  \\\n",
       "count   5110.000000  5110.000000   5110.000000    5110.000000   \n",
       "mean   36517.829354    43.226614      0.097456       0.054012   \n",
       "std    21161.721625    22.612647      0.296607       0.226063   \n",
       "min       67.000000     0.080000      0.000000       0.000000   \n",
       "25%    17741.250000    25.000000      0.000000       0.000000   \n",
       "50%    36932.000000    45.000000      0.000000       0.000000   \n",
       "75%    54682.000000    61.000000      0.000000       0.000000   \n",
       "max    72940.000000    82.000000      1.000000       1.000000   \n",
       "\n",
       "       avg_glucose_level          bmi       stroke  \n",
       "count        5110.000000  4909.000000  5110.000000  \n",
       "mean          106.147677    28.893237     0.048728  \n",
       "std            45.283560     7.854067     0.215320  \n",
       "min            55.120000    10.300000     0.000000  \n",
       "25%            77.245000    23.500000     0.000000  \n",
       "50%            91.885000    28.100000     0.000000  \n",
       "75%           114.090000    33.100000     0.000000  \n",
       "max           271.740000    97.600000     1.000000  "
      ]
     },
     "execution_count": 3,
     "metadata": {},
     "output_type": "execute_result"
    }
   ],
   "source": [
    "df.describe()"
   ]
  },
  {
   "cell_type": "code",
   "execution_count": 4,
   "id": "15f11408",
   "metadata": {
    "execution": {
     "iopub.execute_input": "2023-07-17T15:29:27.785111Z",
     "iopub.status.busy": "2023-07-17T15:29:27.784730Z",
     "iopub.status.idle": "2023-07-17T15:29:27.792353Z",
     "shell.execute_reply": "2023-07-17T15:29:27.791235Z"
    },
    "papermill": {
     "duration": 0.019307,
     "end_time": "2023-07-17T15:29:27.794756",
     "exception": false,
     "start_time": "2023-07-17T15:29:27.775449",
     "status": "completed"
    },
    "tags": []
   },
   "outputs": [
    {
     "data": {
      "text/plain": [
       "Index(['id', 'gender', 'age', 'hypertension', 'heart_disease', 'ever_married',\n",
       "       'work_type', 'Residence_type', 'avg_glucose_level', 'bmi',\n",
       "       'smoking_status', 'stroke'],\n",
       "      dtype='object')"
      ]
     },
     "execution_count": 4,
     "metadata": {},
     "output_type": "execute_result"
    }
   ],
   "source": [
    "df.columns"
   ]
  },
  {
   "cell_type": "markdown",
   "id": "b9e8cc20",
   "metadata": {
    "papermill": {
     "duration": 0.007652,
     "end_time": "2023-07-17T15:29:27.810445",
     "exception": false,
     "start_time": "2023-07-17T15:29:27.802793",
     "status": "completed"
    },
    "tags": []
   },
   "source": [
    "#### Some points to note out from this data:\n",
    "- BMI: Higher BMI is associated with an increased risk of stroke.\n",
    "- Age: Advanced age is a significant risk factor for stroke, with the risk increasing as individuals get older.\n",
    "- Gender: Men and postmenopausal women have a higher risk of stroke compared to premenopausal women.\n",
    "- Smoking Status: Smoking significantly increases the risk of stroke due to the harmful effects of tobacco on blood vessels.\n",
    "- Heart Disease: People with heart disease have a higher risk of stroke, as both conditions share similar risk factors and underlying vascular issues."
   ]
  },
  {
   "cell_type": "code",
   "execution_count": 5,
   "id": "4a4a9cd7",
   "metadata": {
    "execution": {
     "iopub.execute_input": "2023-07-17T15:29:27.829483Z",
     "iopub.status.busy": "2023-07-17T15:29:27.829094Z",
     "iopub.status.idle": "2023-07-17T15:29:27.847328Z",
     "shell.execute_reply": "2023-07-17T15:29:27.845988Z"
    },
    "papermill": {
     "duration": 0.0299,
     "end_time": "2023-07-17T15:29:27.849750",
     "exception": false,
     "start_time": "2023-07-17T15:29:27.819850",
     "status": "completed"
    },
    "tags": []
   },
   "outputs": [
    {
     "name": "stdout",
     "output_type": "stream",
     "text": [
      "id                   0.000000\n",
      "gender               0.000000\n",
      "age                  0.000000\n",
      "hypertension         0.000000\n",
      "heart_disease        0.000000\n",
      "ever_married         0.000000\n",
      "work_type            0.000000\n",
      "Residence_type       0.000000\n",
      "avg_glucose_level    0.000000\n",
      "bmi                  3.933464\n",
      "smoking_status       0.000000\n",
      "stroke               0.000000\n",
      "dtype: float64\n"
     ]
    }
   ],
   "source": [
    "#Percentage of missing values in the dataset\n",
    "missing_percentage = (df.isnull().sum() / len(df)) * 100\n",
    "print(missing_percentage)"
   ]
  },
  {
   "cell_type": "code",
   "execution_count": 6,
   "id": "8bdf2af6",
   "metadata": {
    "execution": {
     "iopub.execute_input": "2023-07-17T15:29:27.868398Z",
     "iopub.status.busy": "2023-07-17T15:29:27.867537Z",
     "iopub.status.idle": "2023-07-17T15:29:29.643930Z",
     "shell.execute_reply": "2023-07-17T15:29:29.642797Z"
    },
    "papermill": {
     "duration": 1.790993,
     "end_time": "2023-07-17T15:29:29.648936",
     "exception": false,
     "start_time": "2023-07-17T15:29:27.857943",
     "status": "completed"
    },
    "tags": []
   },
   "outputs": [
    {
     "name": "stderr",
     "output_type": "stream",
     "text": [
      "/opt/conda/lib/python3.10/site-packages/scipy/__init__.py:146: UserWarning: A NumPy version >=1.16.5 and <1.23.0 is required for this version of SciPy (detected version 1.23.5\n",
      "  warnings.warn(f\"A NumPy version >={np_minversion} and <{np_maxversion}\"\n"
     ]
    },
    {
     "name": "stdout",
     "output_type": "stream",
     "text": [
      "         id  gender   age  hypertension  heart_disease ever_married  \\\n",
      "0      9046    Male  67.0             0              1          Yes   \n",
      "1     51676  Female  61.0             0              0          Yes   \n",
      "2     31112    Male  80.0             0              1          Yes   \n",
      "3     60182  Female  49.0             0              0          Yes   \n",
      "4      1665  Female  79.0             1              0          Yes   \n",
      "...     ...     ...   ...           ...            ...          ...   \n",
      "5105  18234  Female  80.0             1              0          Yes   \n",
      "5106  44873  Female  81.0             0              0          Yes   \n",
      "5107  19723  Female  35.0             0              0          Yes   \n",
      "5108  37544    Male  51.0             0              0          Yes   \n",
      "5109  44679  Female  44.0             0              0          Yes   \n",
      "\n",
      "          work_type Residence_type  avg_glucose_level        bmi  \\\n",
      "0           Private          Urban             228.69  36.600000   \n",
      "1     Self-employed          Rural             202.21  28.893237   \n",
      "2           Private          Rural             105.92  32.500000   \n",
      "3           Private          Urban             171.23  34.400000   \n",
      "4     Self-employed          Rural             174.12  24.000000   \n",
      "...             ...            ...                ...        ...   \n",
      "5105        Private          Urban              83.75  28.893237   \n",
      "5106  Self-employed          Urban             125.20  40.000000   \n",
      "5107  Self-employed          Rural              82.99  30.600000   \n",
      "5108        Private          Rural             166.29  25.600000   \n",
      "5109       Govt_job          Urban              85.28  26.200000   \n",
      "\n",
      "       smoking_status  stroke  \n",
      "0     formerly smoked       1  \n",
      "1        never smoked       1  \n",
      "2        never smoked       1  \n",
      "3              smokes       1  \n",
      "4        never smoked       1  \n",
      "...               ...     ...  \n",
      "5105     never smoked       0  \n",
      "5106     never smoked       0  \n",
      "5107     never smoked       0  \n",
      "5108  formerly smoked       0  \n",
      "5109          Unknown       0  \n",
      "\n",
      "[5110 rows x 12 columns]\n"
     ]
    }
   ],
   "source": [
    "#Because our dataset contains some missing values will fill in them\n",
    "from sklearn.impute import KNNImputer\n",
    "\n",
    "# Creating the KNNImputer object\n",
    "imputer = KNNImputer(n_neighbors=5)\n",
    "\n",
    "# Extracting the 'bmi' column\n",
    "bmi_column = df['bmi']\n",
    "\n",
    "# Filling missing values in the 'bmi' column\n",
    "bmi_filled = imputer.fit_transform(bmi_column.values.reshape(-1, 1))\n",
    "\n",
    "# Assigning the filled 'bmi' column back to df\n",
    "df['bmi'] = bmi_filled\n",
    "\n",
    "# Displaying the updated DataFrame\n",
    "print(df)"
   ]
  },
  {
   "cell_type": "markdown",
   "id": "336d10ab",
   "metadata": {
    "papermill": {
     "duration": 0.016879,
     "end_time": "2023-07-17T15:29:29.683072",
     "exception": false,
     "start_time": "2023-07-17T15:29:29.666193",
     "status": "completed"
    },
    "tags": []
   },
   "source": [
    "### 4. Exploratory Data Analysis"
   ]
  },
  {
   "cell_type": "markdown",
   "id": "97a6ab10",
   "metadata": {
    "papermill": {
     "duration": 0.008381,
     "end_time": "2023-07-17T15:29:29.705268",
     "exception": false,
     "start_time": "2023-07-17T15:29:29.696887",
     "status": "completed"
    },
    "tags": []
   },
   "source": [
    "#####  From the points we noted above we'd like to create Histograms and pie charts since we know they might be related to stroke"
   ]
  },
  {
   "cell_type": "code",
   "execution_count": 7,
   "id": "d752719d",
   "metadata": {
    "execution": {
     "iopub.execute_input": "2023-07-17T15:29:29.724515Z",
     "iopub.status.busy": "2023-07-17T15:29:29.724112Z",
     "iopub.status.idle": "2023-07-17T15:29:29.904415Z",
     "shell.execute_reply": "2023-07-17T15:29:29.903138Z"
    },
    "papermill": {
     "duration": 0.193373,
     "end_time": "2023-07-17T15:29:29.907170",
     "exception": false,
     "start_time": "2023-07-17T15:29:29.713797",
     "status": "completed"
    },
    "tags": []
   },
   "outputs": [
    {
     "data": {
      "image/png": "[encoded data removed]",
      "text/plain": [
       "<Figure size 640x480 with 1 Axes>"
      ]
     },
     "metadata": {},
     "output_type": "display_data"
    }
   ],
   "source": [
    "%matplotlib inline\n",
    "df_home = df['smoking_status'].value_counts().reset_index()\n",
    "\n",
    "plt.pie(df_home['smoking_status'], labels=df_home['index'], autopct='%1.1f%%')\n",
    "plt.title('Smoking Status')\n",
    "\n",
    "\n",
    "plt.show()\n"
   ]
  },
  {
   "cell_type": "code",
   "execution_count": 8,
   "id": "617017ea",
   "metadata": {
    "execution": {
     "iopub.execute_input": "2023-07-17T15:29:29.928321Z",
     "iopub.status.busy": "2023-07-17T15:29:29.927047Z",
     "iopub.status.idle": "2023-07-17T15:29:30.177998Z",
     "shell.execute_reply": "2023-07-17T15:29:30.176790Z"
    },
    "papermill": {
     "duration": 0.26408,
     "end_time": "2023-07-17T15:29:30.180289",
     "exception": false,
     "start_time": "2023-07-17T15:29:29.916209",
     "status": "completed"
    },
    "tags": []
   },
   "outputs": [
    {
     "data": {
      "image/png": "[encoded data removed]",
      "text/plain": [
       "<Figure size 640x480 with 1 Axes>"
      ]
     },
     "metadata": {},
     "output_type": "display_data"
    }
   ],
   "source": [
    "# Plotting the histogram\n",
    "plt.hist(df.bmi, bins=20, edgecolor='black')\n",
    "\n",
    "# Adding labels and title\n",
    "plt.xlabel('BMI')\n",
    "plt.ylabel('Frequency')\n",
    "plt.title('BMI Distribution')\n",
    "\n",
    "# Displaying the histogram\n",
    "plt.show()\n"
   ]
  },
  {
   "cell_type": "code",
   "execution_count": 9,
   "id": "d4c82f72",
   "metadata": {
    "execution": {
     "iopub.execute_input": "2023-07-17T15:29:30.201228Z",
     "iopub.status.busy": "2023-07-17T15:29:30.200416Z",
     "iopub.status.idle": "2023-07-17T15:29:30.408377Z",
     "shell.execute_reply": "2023-07-17T15:29:30.407216Z"
    },
    "papermill": {
     "duration": 0.221254,
     "end_time": "2023-07-17T15:29:30.411063",
     "exception": false,
     "start_time": "2023-07-17T15:29:30.189809",
     "status": "completed"
    },
    "tags": []
   },
   "outputs": [
    {
     "data": {
      "image/png": "[encoded data removed]",
      "text/plain": [
       "<Figure size 640x480 with 1 Axes>"
      ]
     },
     "metadata": {},
     "output_type": "display_data"
    }
   ],
   "source": [
    "hyp = df.groupby('gender')['hypertension'].mean().reset_index()\n",
    "\n",
    "# Plotting the bar chart\n",
    "plt.bar(hyp['gender'], hyp['hypertension'], color=['blue', 'pink'])\n",
    "\n",
    "# Adding labels and title\n",
    "plt.xlabel('Gender')\n",
    "plt.ylabel('Average Hypertension')\n",
    "plt.title('Average Hypertension by Gender')\n",
    "plt.grid()\n",
    "\n",
    "# Displaying the bar chart\n",
    "plt.show()\n"
   ]
  },
  {
   "cell_type": "markdown",
   "id": "6218fdea",
   "metadata": {
    "papermill": {
     "duration": 0.009475,
     "end_time": "2023-07-17T15:29:30.430406",
     "exception": false,
     "start_time": "2023-07-17T15:29:30.420931",
     "status": "completed"
    },
    "tags": []
   },
   "source": [
    "### 5. Feature Selection"
   ]
  },
  {
   "cell_type": "code",
   "execution_count": 10,
   "id": "0ee226a1",
   "metadata": {
    "execution": {
     "iopub.execute_input": "2023-07-17T15:29:30.452902Z",
     "iopub.status.busy": "2023-07-17T15:29:30.452257Z",
     "iopub.status.idle": "2023-07-17T15:29:30.458886Z",
     "shell.execute_reply": "2023-07-17T15:29:30.457994Z"
    },
    "papermill": {
     "duration": 0.020239,
     "end_time": "2023-07-17T15:29:30.461037",
     "exception": false,
     "start_time": "2023-07-17T15:29:30.440798",
     "status": "completed"
    },
    "tags": []
   },
   "outputs": [],
   "source": [
    "X = df.drop('stroke', axis= 'columns')\n",
    "y = df['stroke']"
   ]
  },
  {
   "cell_type": "code",
   "execution_count": 11,
   "id": "2d4a7898",
   "metadata": {
    "execution": {
     "iopub.execute_input": "2023-07-17T15:29:30.482808Z",
     "iopub.status.busy": "2023-07-17T15:29:30.482122Z",
     "iopub.status.idle": "2023-07-17T15:29:30.487803Z",
     "shell.execute_reply": "2023-07-17T15:29:30.486860Z"
    },
    "papermill": {
     "duration": 0.019133,
     "end_time": "2023-07-17T15:29:30.490062",
     "exception": false,
     "start_time": "2023-07-17T15:29:30.470929",
     "status": "completed"
    },
    "tags": []
   },
   "outputs": [],
   "source": [
    "df = df.drop(['id'], axis= 1)"
   ]
  },
  {
   "cell_type": "code",
   "execution_count": 12,
   "id": "f41e98de",
   "metadata": {
    "execution": {
     "iopub.execute_input": "2023-07-17T15:29:30.513298Z",
     "iopub.status.busy": "2023-07-17T15:29:30.512402Z",
     "iopub.status.idle": "2023-07-17T15:29:30.572631Z",
     "shell.execute_reply": "2023-07-17T15:29:30.571706Z"
    },
    "papermill": {
     "duration": 0.074632,
     "end_time": "2023-07-17T15:29:30.574852",
     "exception": false,
     "start_time": "2023-07-17T15:29:30.500220",
     "status": "completed"
    },
    "tags": []
   },
   "outputs": [
    {
     "data": {
      "text/html": [
       "<div>\n",
       "<style scoped>\n",
       "    .dataframe tbody tr th:only-of-type {\n",
       "        vertical-align: middle;\n",
       "    }\n",
       "\n",
       "    .dataframe tbody tr th {\n",
       "        vertical-align: top;\n",
       "    }\n",
       "\n",
       "    .dataframe thead th {\n",
       "        text-align: right;\n",
       "    }\n",
       "</style>\n",
       "<table border=\"1\" class=\"dataframe\">\n",
       "  <thead>\n",
       "    <tr style=\"text-align: right;\">\n",
       "      <th></th>\n",
       "      <th>gender</th>\n",
       "      <th>age</th>\n",
       "      <th>hypertension</th>\n",
       "      <th>heart_disease</th>\n",
       "      <th>ever_married</th>\n",
       "      <th>work_type</th>\n",
       "      <th>Residence_type</th>\n",
       "      <th>avg_glucose_level</th>\n",
       "      <th>bmi</th>\n",
       "      <th>smoking_status</th>\n",
       "      <th>stroke</th>\n",
       "    </tr>\n",
       "  </thead>\n",
       "  <tbody>\n",
       "    <tr>\n",
       "      <th>0</th>\n",
       "      <td>1</td>\n",
       "      <td>67.0</td>\n",
       "      <td>0</td>\n",
       "      <td>1</td>\n",
       "      <td>1</td>\n",
       "      <td>0</td>\n",
       "      <td>1</td>\n",
       "      <td>228.69</td>\n",
       "      <td>36.600000</td>\n",
       "      <td>1</td>\n",
       "      <td>1</td>\n",
       "    </tr>\n",
       "    <tr>\n",
       "      <th>1</th>\n",
       "      <td>2</td>\n",
       "      <td>61.0</td>\n",
       "      <td>0</td>\n",
       "      <td>0</td>\n",
       "      <td>1</td>\n",
       "      <td>1</td>\n",
       "      <td>0</td>\n",
       "      <td>202.21</td>\n",
       "      <td>28.893237</td>\n",
       "      <td>0</td>\n",
       "      <td>1</td>\n",
       "    </tr>\n",
       "    <tr>\n",
       "      <th>2</th>\n",
       "      <td>1</td>\n",
       "      <td>80.0</td>\n",
       "      <td>0</td>\n",
       "      <td>1</td>\n",
       "      <td>1</td>\n",
       "      <td>0</td>\n",
       "      <td>0</td>\n",
       "      <td>105.92</td>\n",
       "      <td>32.500000</td>\n",
       "      <td>0</td>\n",
       "      <td>1</td>\n",
       "    </tr>\n",
       "    <tr>\n",
       "      <th>3</th>\n",
       "      <td>2</td>\n",
       "      <td>49.0</td>\n",
       "      <td>0</td>\n",
       "      <td>0</td>\n",
       "      <td>1</td>\n",
       "      <td>0</td>\n",
       "      <td>1</td>\n",
       "      <td>171.23</td>\n",
       "      <td>34.400000</td>\n",
       "      <td>2</td>\n",
       "      <td>1</td>\n",
       "    </tr>\n",
       "    <tr>\n",
       "      <th>4</th>\n",
       "      <td>2</td>\n",
       "      <td>79.0</td>\n",
       "      <td>1</td>\n",
       "      <td>0</td>\n",
       "      <td>1</td>\n",
       "      <td>1</td>\n",
       "      <td>0</td>\n",
       "      <td>174.12</td>\n",
       "      <td>24.000000</td>\n",
       "      <td>0</td>\n",
       "      <td>1</td>\n",
       "    </tr>\n",
       "  </tbody>\n",
       "</table>\n",
       "</div>"
      ],
      "text/plain": [
       "   gender   age  hypertension  heart_disease  ever_married work_type  \\\n",
       "0       1  67.0             0              1             1         0   \n",
       "1       2  61.0             0              0             1         1   \n",
       "2       1  80.0             0              1             1         0   \n",
       "3       2  49.0             0              0             1         0   \n",
       "4       2  79.0             1              0             1         1   \n",
       "\n",
       "   Residence_type  avg_glucose_level        bmi  smoking_status  stroke  \n",
       "0               1             228.69  36.600000               1       1  \n",
       "1               0             202.21  28.893237               0       1  \n",
       "2               0             105.92  32.500000               0       1  \n",
       "3               1             171.23  34.400000               2       1  \n",
       "4               0             174.12  24.000000               0       1  "
      ]
     },
     "execution_count": 12,
     "metadata": {},
     "output_type": "execute_result"
    }
   ],
   "source": [
    "df = df.replace(\"Yes\", 1)\n",
    "df = df.replace(\"No\", 0)\n",
    "df = df.replace(\"Urban\", 1)\n",
    "df = df.replace(\"Rural\", 0)\n",
    "df = df.replace([\"Male\", \"Female\", \"Other\"], [1, 2, 0])\n",
    "df = df.replace([\"formerly smoked\",\"never smoked\",\"smokes\",\"Unknown\"], [1,0,2,3])\n",
    "df = df.replace([\"Private\", \"Self-employed\"], [0,1])\n",
    "df.head()"
   ]
  },
  {
   "cell_type": "code",
   "execution_count": 13,
   "id": "4c0460f9",
   "metadata": {
    "execution": {
     "iopub.execute_input": "2023-07-17T15:29:30.597147Z",
     "iopub.status.busy": "2023-07-17T15:29:30.596693Z",
     "iopub.status.idle": "2023-07-17T15:29:30.623810Z",
     "shell.execute_reply": "2023-07-17T15:29:30.622722Z"
    },
    "papermill": {
     "duration": 0.041696,
     "end_time": "2023-07-17T15:29:30.626861",
     "exception": false,
     "start_time": "2023-07-17T15:29:30.585165",
     "status": "completed"
    },
    "tags": []
   },
   "outputs": [
    {
     "name": "stderr",
     "output_type": "stream",
     "text": [
      "/opt/conda/lib/python3.10/site-packages/sklearn/preprocessing/_encoders.py:868: FutureWarning: `sparse` was renamed to `sparse_output` in version 1.2 and will be removed in 1.4. `sparse_output` is ignored unless you leave `sparse` to its default value.\n",
      "  warnings.warn(\n"
     ]
    }
   ],
   "source": [
    "from sklearn.preprocessing import OneHotEncoder\n",
    "df['work_type'] = df['work_type'].astype(str)\n",
    "\n",
    "# Separate categorical and numerical features\n",
    "categorical_features = ['work_type']  # Add other categorical columns if needed\n",
    "numerical_features = [col for col in df.columns if col not in categorical_features]\n",
    "\n",
    "# One-hot encode the categorical features\n",
    "encoder = OneHotEncoder(sparse=False, handle_unknown='ignore')\n",
    "encoded_categorical = encoder.fit_transform(df[categorical_features])\n",
    "\n",
    "# Combine encoded categorical features and numerical features\n",
    "X = pd.DataFrame(encoded_categorical, columns=encoder.get_feature_names_out(categorical_features))\n",
    "X[numerical_features] = df[numerical_features]"
   ]
  },
  {
   "cell_type": "markdown",
   "id": "d0689ade",
   "metadata": {
    "papermill": {
     "duration": 0.009805,
     "end_time": "2023-07-17T15:29:30.647051",
     "exception": false,
     "start_time": "2023-07-17T15:29:30.637246",
     "status": "completed"
    },
    "tags": []
   },
   "source": [
    "### 6. Modelling"
   ]
  },
  {
   "cell_type": "code",
   "execution_count": 14,
   "id": "07f29fa5",
   "metadata": {
    "execution": {
     "iopub.execute_input": "2023-07-17T15:29:30.669708Z",
     "iopub.status.busy": "2023-07-17T15:29:30.668759Z",
     "iopub.status.idle": "2023-07-17T15:29:30.677458Z",
     "shell.execute_reply": "2023-07-17T15:29:30.676644Z"
    },
    "papermill": {
     "duration": 0.022695,
     "end_time": "2023-07-17T15:29:30.679839",
     "exception": false,
     "start_time": "2023-07-17T15:29:30.657144",
     "status": "completed"
    },
    "tags": []
   },
   "outputs": [],
   "source": [
    "from sklearn.model_selection import train_test_split\n",
    "X_train, X_test, y_train, y_test = train_test_split(X,y , test_size= 0.2, random_state=42)"
   ]
  },
  {
   "cell_type": "code",
   "execution_count": 15,
   "id": "16f2561c",
   "metadata": {
    "execution": {
     "iopub.execute_input": "2023-07-17T15:29:30.703079Z",
     "iopub.status.busy": "2023-07-17T15:29:30.702598Z",
     "iopub.status.idle": "2023-07-17T15:29:31.207157Z",
     "shell.execute_reply": "2023-07-17T15:29:31.205958Z"
    },
    "papermill": {
     "duration": 0.518735,
     "end_time": "2023-07-17T15:29:31.209841",
     "exception": false,
     "start_time": "2023-07-17T15:29:30.691106",
     "status": "completed"
    },
    "tags": []
   },
   "outputs": [
    {
     "data": {
      "text/plain": [
       "1.0"
      ]
     },
     "execution_count": 15,
     "metadata": {},
     "output_type": "execute_result"
    }
   ],
   "source": [
    "from sklearn.ensemble import RandomForestRegressor\n",
    "\n",
    "rf= RandomForestRegressor()\n",
    "\n",
    "rf.fit(X_train,y_train)\n",
    "rf.score(X_test,y_test)"
   ]
  }
 ],
 "metadata": {
  "kernelspec": {
   "display_name": "Python 3",
   "language": "python",
   "name": "python3"
  },
  "language_info": {
   "codemirror_mode": {
    "name": "ipython",
    "version": 3
   },
   "file_extension": ".py",
   "mimetype": "text/x-python",
   "name": "python",
   "nbconvert_exporter": "python",
   "pygments_lexer": "ipython3",
   "version": "3.10.12"
  },
  "papermill": {
   "default_parameters": {},
   "duration": 16.669792,
   "end_time": "2023-07-17T15:29:32.246100",
   "environment_variables": {},
   "exception": null,
   "input_path": "__notebook__.ipynb",
   "output_path": "__notebook__.ipynb",
   "parameters": {},
   "start_time": "2023-07-17T15:29:15.576308",
   "version": "2.4.0"
  }
 },
 "nbformat": 4,
 "nbformat_minor": 5
}
